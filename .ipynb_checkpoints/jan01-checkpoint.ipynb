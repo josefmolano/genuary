{
 "cells": [
  {
   "cell_type": "code",
   "execution_count": 279,
   "id": "3565c5f3",
   "metadata": {},
   "outputs": [],
   "source": [
    "import cv2"
   ]
  },
  {
   "cell_type": "code",
   "execution_count": 280,
   "id": "fa475d86",
   "metadata": {},
   "outputs": [],
   "source": [
    "import numpy as np"
   ]
  },
  {
   "cell_type": "code",
   "execution_count": 281,
   "id": "68029d20",
   "metadata": {},
   "outputs": [],
   "source": [
    "import matplotlib.pyplot as plt"
   ]
  },
  {
   "cell_type": "code",
   "execution_count": 282,
   "id": "d6a37d55",
   "metadata": {},
   "outputs": [],
   "source": [
    "import random"
   ]
  },
  {
   "cell_type": "code",
   "execution_count": 283,
   "id": "0be436a1",
   "metadata": {},
   "outputs": [],
   "source": [
    "YELLOW_EMOJIS = '😹😸😺🤕🤒😷🤧🥴🤐😬🤥🤫🤭🤔🙄😴😪😓😭🤤😥😢😳😵🥱😲😮😧😦😯😑😐😶😤🥺😩😫😖😣😕😟😔😞😒😏🤠🥳🤩😎🤓🧐🤨🤪🤗🤑😛😝😜😋😚😙😗'\n",
    "BLUE_EMOJIS = '💎💙🌊🌌🧊💧🐬🔵🟦🫐💦🐳🌀🧿🔹🥶🐋⛲🌃🌐📘🐟🌠🔷🧢👥👤🆒🆓👖'\n",
    "WHITE_EMOJIS = '👟🐭🐮🕊🐚🧂🔭🤍🐑🦢🧴'\n",
    "BROWN_EMOJIS = '🐻👁💼👜🤎🟫🟤💩🐗🧳🦉🐌🦔🦦🦫🦥🪵'"
   ]
  },
  {
   "cell_type": "code",
   "execution_count": 284,
   "id": "d7caf14f",
   "metadata": {},
   "outputs": [],
   "source": [
    "COLOR_EMOJIS = [\n",
    "    YELLOW_EMOJIS,\n",
    "    BLUE_EMOJIS,\n",
    "    WHITE_EMOJIS,\n",
    "    BROWN_EMOJIS\n",
    "]"
   ]
  },
  {
   "cell_type": "code",
   "execution_count": 285,
   "id": "b8ce2498",
   "metadata": {
    "scrolled": false
   },
   "outputs": [
    {
     "name": "stdout",
     "output_type": "stream",
     "text": [
      "0 😹\n",
      "1 😸\n",
      "2 😺\n",
      "3 🤕\n",
      "4 🤒\n",
      "5 😷\n",
      "6 🤧\n",
      "7 🥴\n",
      "8 🤐\n",
      "9 😬\n",
      "10 🤥\n",
      "11 🤫\n",
      "12 🤭\n",
      "13 🤔\n",
      "14 🙄\n",
      "15 😴\n",
      "16 😪\n",
      "17 😓\n",
      "18 😭\n",
      "19 🤤\n",
      "20 😥\n",
      "21 😢\n",
      "22 😳\n",
      "23 😵\n",
      "24 🥱\n",
      "25 😲\n",
      "26 😮\n",
      "27 😧\n",
      "28 😦\n",
      "29 😯\n",
      "30 😑\n",
      "31 😐\n",
      "32 😶\n",
      "33 😤\n",
      "34 🥺\n",
      "35 😩\n",
      "36 😫\n",
      "37 😖\n",
      "38 😣\n",
      "39 😕\n",
      "40 😟\n",
      "41 😔\n",
      "42 😞\n",
      "43 😒\n",
      "44 😏\n",
      "45 🤠\n",
      "46 🥳\n",
      "47 🤩\n",
      "48 😎\n",
      "49 🤓\n",
      "50 🧐\n",
      "51 🤨\n",
      "52 🤪\n",
      "53 🤗\n",
      "54 🤑\n",
      "55 😛\n",
      "56 😝\n",
      "57 😜\n",
      "58 😋\n",
      "59 😚\n",
      "60 😙\n",
      "61 😗\n",
      "0 💎\n",
      "1 💙\n",
      "2 🌊\n",
      "3 🌌\n",
      "4 🧊\n",
      "5 💧\n",
      "6 🐬\n",
      "7 🔵\n",
      "8 🟦\n",
      "9 🫐\n",
      "10 💦\n",
      "11 🐳\n",
      "12 🌀\n",
      "13 🧿\n",
      "14 🔹\n",
      "15 🥶\n",
      "16 🐋\n",
      "17 ⛲\n",
      "18 🌃\n",
      "19 🌐\n",
      "20 📘\n",
      "21 🐟\n",
      "22 🌠\n",
      "23 🔷\n",
      "24 🧢\n",
      "25 👥\n",
      "26 👤\n",
      "27 🆒\n",
      "28 🆓\n",
      "29 👖\n",
      "0 👟\n",
      "1 🐭\n",
      "2 🐮\n",
      "3 🕊\n",
      "4 🐚\n",
      "5 🧂\n",
      "6 🔭\n",
      "7 🤍\n",
      "8 🐑\n",
      "9 🦢\n",
      "10 🧴\n",
      "0 🐻\n",
      "1 👁\n",
      "2 💼\n",
      "3 👜\n",
      "4 🤎\n",
      "5 🟫\n",
      "6 🟤\n",
      "7 💩\n",
      "8 🐗\n",
      "9 🧳\n",
      "10 🦉\n",
      "11 🐌\n",
      "12 🦔\n",
      "13 🦦\n",
      "14 🦫\n",
      "15 🦥\n",
      "16 🪵\n"
     ]
    }
   ],
   "source": [
    "for color_row in COLOR_EMOJIS:\n",
    "    for i,emoji in enumerate(color_row):\n",
    "        print(i,emoji)"
   ]
  },
  {
   "cell_type": "code",
   "execution_count": 286,
   "id": "f3d3de0b",
   "metadata": {},
   "outputs": [
    {
     "name": "stdout",
     "output_type": "stream",
     "text": [
      "😔\n"
     ]
    }
   ],
   "source": [
    "print(random.choice(YELLOW_EMOJIS))"
   ]
  },
  {
   "cell_type": "code",
   "execution_count": 287,
   "id": "44d45a3e",
   "metadata": {},
   "outputs": [],
   "source": [
    "img = cv2.imread('./images/jan01/1280px-Twemoji2_1f602.svg.png', cv2.IMREAD_UNCHANGED)"
   ]
  },
  {
   "cell_type": "code",
   "execution_count": 288,
   "id": "1c1c6e6e",
   "metadata": {},
   "outputs": [],
   "source": [
    "trans_mask = img[:,:,3] == 0\n",
    "img[trans_mask] = [255, 255, 255, 255]\n",
    "img = cv2.cvtColor(img, cv2.COLOR_BGRA2BGR)"
   ]
  },
  {
   "cell_type": "code",
   "execution_count": 289,
   "id": "09987b62",
   "metadata": {},
   "outputs": [],
   "source": [
    "img = cv2.resize(img,(100,100))"
   ]
  },
  {
   "cell_type": "code",
   "execution_count": 290,
   "id": "9f532158",
   "metadata": {},
   "outputs": [],
   "source": [
    "#img = img/255.0"
   ]
  },
  {
   "cell_type": "code",
   "execution_count": 291,
   "id": "f1f404ea",
   "metadata": {},
   "outputs": [
    {
     "data": {
      "text/plain": [
       "<matplotlib.image.AxesImage at 0x13d2fc520>"
      ]
     },
     "execution_count": 291,
     "metadata": {},
     "output_type": "execute_result"
    },
    {
     "data": {
      "image/png": "[encoded data removed]",
      "text/plain": [
       "<Figure size 432x288 with 1 Axes>"
      ]
     },
     "metadata": {
      "needs_background": "light"
     },
     "output_type": "display_data"
    }
   ],
   "source": [
    "plt.imshow(cv2.cvtColor(img, cv2.COLOR_BGR2RGB))"
   ]
  },
  {
   "cell_type": "code",
   "execution_count": 292,
   "id": "026ff1ea",
   "metadata": {},
   "outputs": [],
   "source": [
    "# Yellow: #ffcc4d [255, 204, 77]\n",
    "# Blue: #5dadec [93, 173, 236]\n",
    "# White: #ffffff [255, 255, 255]\n",
    "# Brown: #664500 [102, 69, 0]\n",
    "colors = [\n",
    "    np.array([77, 204, 255]),\n",
    "    np.array([236, 173, 93]),\n",
    "    np.array([255, 255, 255]),\n",
    "    np.array([0, 69, 102])\n",
    "]"
   ]
  },
  {
   "cell_type": "code",
   "execution_count": 293,
   "id": "2e9776ae",
   "metadata": {},
   "outputs": [],
   "source": [
    "def get_closest_color(x):\n",
    "    dist_list = []\n",
    "    for color in colors:\n",
    "        dist = np.linalg.norm(x-color)\n",
    "        dist_list.append(dist)\n",
    "    return np.argmin(dist_list)"
   ]
  },
  {
   "cell_type": "code",
   "execution_count": 294,
   "id": "5644830a",
   "metadata": {
    "scrolled": false
   },
   "outputs": [
    {
     "name": "stdout",
     "output_type": "stream",
     "text": [
      "🐚🤍🐑🕊🤍🧂🐭🤍🧴🐭👟🕊🐮🦢🧴🔭🦢🐭🧂🦢🕊🧂👟🔭🦢🐮🕊🐚🧂🦢🐚🧂🐑🕊👟🦢🧂🕊🔭🧂🐮🐭🔭😳😝🧐😺😪😓🥴😪🤓😺😣😺😧🤑🤍👟🧴🐑🕊🤍🕊🐭👟🐑🐚🔭🦢🐑🐮🕊🐮🦢🤍🔭🐮🐑🦢🐑🤍🦢🐚🤍👟🔭🐮🔭🐚🐚🦢👟🐚🔭🦢🐚🐭🐮🕊\n",
      "👟🐚🧴🔭👟🐭🐚🧂👟👟👟🐚🐮🐑🧴🐑🐭🧴🐮🔭🧴🐑🧂🔭🧴🕊🤍🤍🐭🦢👟🐮🐮🐚🐚🐭🐭🐑😵🥱😐😥😜🥺🥴🧐🥱😞😴😤🤑🤩🤔😳😙🥱😸😬😬😓😏😩🔭🐚🔭👟🤍🦢🐑🐑🕊🕊🐮🐚🤍🔭🔭🧴🐭🤍🕊🦢🤍🧴🐭🔭🐑👟🐚🕊🐑🔭🐑🤍🧴🐑👟🐚🐮🧴\n",
      "🦢🐚🧴👟🧴🐭🤍🐚🦢🧴🐚🔭👟👟🧴🧂🔭🕊👟🐮🤍👟🤍🐚👟🧴🐭🧂🤍🕊🧂👟🔭🐮🤑🧐🥺🤩🤩😫🤓😏😢🤨😪😔😙😣😯😐😜😯😓😜🤭😷🥺😦😹😟🤨😷🧐😹😵😤🐮🔭🔭🧴🕊🔭🐚🔭🧴🐮🦢👟🐑🕊🧴🧴🐚🐚🕊🧂🐭🦢🕊🤍🐭🐭🕊🔭🧴🤍🐚🐭🦢🕊\n",
      "🦢🔭🐭👟🐚🦢🐑🐑🦢🤍🐚🐭🦢👟🧂🧴🐮🐑🐑🐚🐮🐭🕊🦢🐮🧴🧂🧂🔭👟🐭😐🙄😴😐😸😬😞🤥😧😩🤫🤐😷😭🤓😬😓🤩😤😑😖😹😑🥺😲🤓🤕😗🤭😺🤗🥴😮😳😬😖🙄😬🔭🧂🧂🔭🐭🐭🐑🦢🧂🧴🤍🐚🐚🐭🐭🤍🐮👟🤍🐑🤍🕊🤍👟🔭👟🧂🧂🔭🔭🕊\n",
      "🧂🦢🕊🐭🤍🦢🤍🐭🐑🐚👟👟👟🐭🐮🐑🐭🦢🤍🕊🐮🤍🧂🧴🐑🕊🤍👟🧂😕😸🤠😝😹😚🤠😯😢😦🥳🤔😪🤒😳😮🤥😢😲🤠😢😛😙🤪😲🤫😒🤒😤😪🧐🤩🤤😺😝🙄😚😵😣😹🤨😐🔭🐚🤍🧂👟🕊🔭🤍🐑🤍🔭🕊🐮🔭🔭🐭🐭🦢🕊🐭🕊🧂🐮👟🐑🧂🤍🕊🔭\n",
      "🧴🔭🤍🕊🤍🧂🕊🧂🧴🐮👟🧂🔭👟🤍🧴🧴🦢🦢👟🕊🐭🐑🧂🧂🐚🕊😴😋😸🥳😚🤔😭🤤😣😯😩😫🥺😚🥴🤑🤫😜🤠😔😙🤗😩😏😏😷🤗😋🤧😤😯😐😐😲😧😫😞🤫😞🤔😵🤧😵🤭😲🥳🤍🐚🐭🐑🐚🐑🕊🐑🦢🔭🐮🐭🕊🕊🔭🧂🐮🐚🧴🧂🦢🕊🤍🧂🦢👟🐚\n",
      "🐭🐑🐭🐭🤍🐭🧴🤍🐭🧂🧴🐭🦢👟🐭🧴🐭🐭🧂🐑🧴🐭🦢🧂👟🤓😐😗😭😸😏🤤🤔🤓😛🤩🙄🤥😚😫🥴😞😩😔😵🙄🤓😒🤗🤧😹😦😬🤥😑🤓🤥🤥😜🤕😣😹🤑😵😞😳😸😭🤔😟😓😳😩😲😞🐚🕊🐭🐮🔭🐮🦢👟🕊🐮🤍🐭🤍🕊🐑🤍🐭🐮🔭🧂🦢🐭🕊🦢🤍\n",
      "🐚🔭🐚🦢🕊🧴🔭🤍🕊🔭👟👟🐮🐚🦢🤍👟🧂🤍👟👟🐚🔭🐚😤🧐😓😐🤓😒😦🤔🤕😓😭😚🤠😚😖😦🥴😖😦😓😜🤗😢🥳🥳😣😒😙😐😬😖🥺😎😬😞😗😩🤧😵🤐😓😢😝😑😲🤕😦🤩😕😙🥳🤫🐚🐑🤍🤍🐑🧴🤍🐑🐮🐭👟🐮🐭🕊🔭🦢👟🧂🐮🐑🐑🔭🕊🐑\n",
      "🤍🐑🐚🐭🐑🤍🧴🐑🧴🐚🦢🐭🧴🧴👟🦢🧂👟🕊🔭🦢🐭😐😪😭🤩😵😵😓😤🤓🤓😙🤫🤭🤪🥺🤑😔🥴😗🤗🤑😎😤😹🤐🤧😐😕😓😯😫🤐😓😑😗🤒😋😫🥳😫😴🤭😟😋🤒😑😜🤪😕🥱🤥😑😙😔🤭😋🐮🐭🐭🧂👟🐭🐮🐭🐭🐚🐮👟🧂🐚🤍🐚🤍🧴🐚👟🕊🕊\n",
      "🧴🐑👟🕊🐮🐭🐚🐭🔭👟🐑🕊🐮🤍🧴🔭🧂🧂🦢🔭🐚🤑😋😴😕😹🤗🥱😒😞😙🥴😞😹😴😦😶😷😴🤥🤩😸😥😷😎😜🤤🤔🥴😷😞🥺😢😺😯😧😩😓😋😏🥳😶🤕😟😣🤪😒😦🤕😟😒😚🥺😶🤒😳😙😑😧🐭👟🐭🐮🦢🦢🐮🦢🐮🕊🦢🧂🐭🧂🐭👟🐑🕊🧴🕊👟\n",
      "🕊🤍🐭👟🦢🐭🕊🕊👟🐮🕊🐚🔭🐚👟🐭🦢🐚🐚🤭😴🙄😛😏😧🥳😤😝🤠😧🤗🤩😯😮😺😮😛🤫🤥🤓😞🤥🤭🥱😣😝🤐😧😖🤒🤪😒🤤😺🤥🤨🤥😶🤤🙄😑😺🤗😓😭🤕🥳😞🥴😷😧🤒🥳😭🤤🤒🤫😧😝😭😟🔭🐑🧴🧂🧂🐑🐭🧴🤍🤍🕊🧂🔭🔭🦢🐑🕊👟🦢\n",
      "🔭🦢🤍🐑🐭👟🧂🧴🐮🐑🦢👟🧂🦢🔭🕊👟🧂🧐😝🤐😧🧐🤤🤐😝🤑😮🤫😯🙄😸😫😜😙🤥😥😥😗🤑😭😴😦🤐😲🥺🤓🤧😥🤐😺😔🥳😟😧🤪😔🤥😗😑😣😪🤑😐😕🤨😋😕🥳🤨🥳🤕🧐😬😓😢😯😦😜🥱😏😢🕊🐮🐚🤍🐮🦢🧂🐭🤍🐑🐮🧴🧴🐑🐑👟👟🧂\n",
      "🐭🧂🦢🐮🐑🧴🤍🐚🧂👟🐭🕊🐑🧴🧴🐭🐮😞😎😏🤔😟🤤😩🤔🤠🤐😎🧐😧😸🙄😖😙😶😏😺🥳😟😯😺🥳🤔😩😶😳😗😓🤓🤤🤓🤧🤩🤒😺🤔😧😒😴🤒😷🤨🤭😤😋🥱😦😐😝😕😝🥴😳🤑😩🤤😬😏😖🤧😯🤐😲🐚👟🤍🤍🔭🕊🐚🐭🕊🐮🕊👟🤍🦢👟🧴🧂\n",
      "🐚🧂🐚🧂🐭🧂🐑🧴🐮🤍🔭🤍🧂👟🧂🔭😛🤒😧😎🤪😷😢🤪😤😸🤭😲😋🤐😟😝🤐😥😤😎😗😷😣🥳😐😚🙄😋😤😬🤤😲😣😤😜😙🤪😪😷😩🤫🤕😦😢😵😷😑😝😳😒😵🤩😕😦🤒😛😮😚😶😵😷🤥😮😚😢😶🧐😐🕊👟🧂👟👟🐑🕊🔭🐮🧴🐚🕊🐭🤍🐭🐮\n",
      "🐭🐑🔭🦢🐚👟🐭🤍🐑👟🐭🔭👟🐑🔭😔🤫😙😫😟😐🤕🤗🤪🤗😶😖😏🥺😒😋🤠🥱😋😴😑🤧😢🤤😖😵😥😛😟😎😧😖😗🤫🤕🤑😥😙😒😐🤠😕🥳🥺😢😏🥺😞😎🧐😷😦🤔😶🤐😵😣🤤😳😚🤩😹😛😧🥴🤪😜😴🥴🤠👟🐚🦢🧴🦢🐮🦢🐑🧴🐑🐭🧂🐭🐮🐮\n",
      "🐚👟🐮🕊👟🐚🧴👟🕊🧴🐮🕊🦢🐮😋😝😸😸😛🥱😲😜😗🤩😒🤕😢🤧🧐😺😤😔🤕😏🤭🤩😪😵🥺🥱😺😋😟😎😒😬😚😴😎🤐😴😪😜🤤😷😶😋🤭😝😓😢😙😓😬😛🤒😥😞😔😦😙🤓🧐😕🧐😋😬😥😞😧😟🤨🤥😣🥴😩🔭🧴🦢🔭👟🐑🧴🐭🧴🐮🧴👟👟🐚\n",
      "🦢🐑🐚🔭🕊🧂🐑👟🧴🐚🦢🐭🐑😵😝🥴🤫😋🤓😖🤩🤨😵😕😤🤪😤😖😳😬😤😪🥺😗😭😥😚😚😜😋😲😥🤠😎😣😟😪😗😷🤨🥱😜😷🤠😐😫🤩😑😭🤠🥺😖😪😷😒😥😸🤭🤕🥴😮😓😒🤐😛🤑😜😣😶😫😞😥🥴🤤😴🥺😕🕊🐚🧂🕊🧴🧴🐚🦢🐮🧴🦢🤍🐚\n",
      "🕊🐚🐮🐭👟🧂🐭🐑🕊🐑🐚🔭😞🤤😥😫😮😥🥱🤗😎😴😹😚🥺😥🤒😮🥺😦😴😪😟🤥🤭😖🤑😯😳😑😝😐😮😗😚😳😞😐😳😵😐🤐😷😜😔😩😑😗😕😢😹🥺😑🧐🤩🙄😸😶😭😢😛😑😬😯😲😛🤑😲😳😵🥳😞😚🙄🥺😭😮🤕🔭🧂🕊🤍🐚🐮🐑🐭🐮🔭🧴🐚\n",
      "🐭🤍🐚🤍🐚🤍🐑🔭🧴🦢🕊😣🤫😬🤓😹😕🤧😤😛😞🥱🙄😥🤪😟😢🧐🤒😥🤐🥳😷😬😴😖🤨😛🥱😐😷🤧🤐😹😒🤐😭😏🤓🤗😎😕😳🤐😤😐😗😶🤥🤩😝😚🤕😕🤗😐😖😓😪🙄😟😔😬😥🤐🧐😋🤧😝😴😏😐😳😣😜🤧😔😖😥🕊🧴👟🐑🐑🦢🦢🦢🧂🐭🐑\n",
      "🤍🐚🧴🕊🕊🤍🔭🔭🐮👟🤧🧐🤥🥺😓😢😥😐😧🤕😷🧐😞😫😐😟😕🙄😗😬😙😖🤗😫😞😚🤤😲😷🥴🥴😜😸🤫😏🤩🥳🥺🧐😒😑😶😮🤭🤗🤓🤩🥴😏😜😸🤧😤😪🤧😏🤩😳🤨😗😺🤫🧐😛😤😏😯😞🥳😷😩😶🥱😲😚🤠🤐🧐😜😵🐮🤍🔭🐭🧂🐑🧂👟🐚🐑\n",
      "🐭🧂🧴🐮🦢🧴🤍🧴🐮🐑😭😫🥳😺😛😐🧐🥴😋😑😓😖😭😺🤠🤗🤔😶😖🤪😋🤪🤤😶😜😷😐😝😝😜😚😢😯🥱😮🤫😥😏🤑🤠🤠🤒😙🧐😞🤪🤥😟🤤😒🤭😮😯🤩🥴🥱😕😣😫🤩🥱🥺😏🥺🥴😦😪😭🤑😳🤔😸😧😪😙😷😙🤥🤤😦🕊🧂👟🧴🧂🧂🕊🤍🦢🐮\n",
      "🦢🧂🐮🤍🧂🐚🐑🐭🐚🤗😩🧐😺🥺🤩🥺🤗🤥🤫😺😪😏🧐😟😥🥴🥱😑😤😮😭😲😝😦😗😶😒🤐😶🥴🤗😦😥🤥😶😝🙄🙄😚😬😶😒😵🤕😤🤒😕😪😤😐😢😗🤑😔😳😖😧🙄🤠😛🤪😳😕😜😞🤗😺😦😑😋😸🤭😐😗😐🤩😜🤧😬🤭🥴🐚🦢🦢🐑🦢🤍🐭🐑🤍\n",
      "🕊🐮👟🦢🕊🐭🐭🐭😢😎😧😪🤐😑😯😩😙🤪🤫😔🤠😴🥱🤧😬🤭🤨😣🤑🤔🤐😧🟫🧳🟤🤪🤪🙄😎😔😖😶😺😝🤤🥺😫🥳😳😥🤕🤤😶😸😕😷🤐🤥😓😦😹🤪🥱😭🤐🪵🐻🦔🥺😷😲😧🤫😩😴😣😏🤐😵😵😐😐🤥😋😭🤐😒🤥😺🤧😏😕🐭🔭🐑🐮👟🧂🐑🧴\n",
      "🐑🔭🦢🤍🐚🤍🐑🐑🤪🤒😭😥😣😟😞🤐😬😞🙄😒😟🤐😸😣😬😎😑🤭😜🦥🦦🦫🐌👜💼🟫🤠🤫😑🤗😐🤩😵😺😗🤔🤧😐😤😛🥳😧😧🤥🤠🥳😭🧐😶🥱🤠🧐🤧😹🦦💩🪵🦫🦥👁🦉🤪😶🥳😬😶😒🤪😏🤤🤫🤩😓😭😓🧐🤠🤒🧐🥺🤕😩🧂🐚🐭🤍👟🐚🐮🦢\n",
      "🦢🐑🧴🦢👟🐑🐚😸🤭😋🤐🤧🤫🤩😹😞😓😐😭😐😯😎🤓😟😎🤐😧🐌🦦🐻🦔🟫🐻🦥🟫🦔😞😭😵😴😢😸😹😩😺😚🤠🤪😜😢🤪😦😮😔😫😦🤧😭😲😝🤭😫😪😪🐗🦫🐗💩💩🪵💩🟫🦦😹😶🤑🤕🤤😳😕🥱🥴🥳😥😔😑😭🤑🤓🤥😴🤒😪🐑🐮🐚🐭🐮👟🐑\n",
      "🐚🕊🔭👟👟🐑🤒🧐😗😒🤪🥱🤩🤭😮😗🙄🤔🤨🤑😬😮😚😒😹🪵💼🟤🪵👁🦉🟤🐗🦔🪵🟤😩😔😺🤭🤓😥😬😫😢😮😖🧐🤕😒😮🥴😓🤕🙄🥳🤪😹😏😞😵😛😑🤓🟤👁🐻🦔🐌🐻🐌🟤🟤🟤👁🤕😮🤗🥺😣😤😤😴🥺😖🤪😜😕😜😕😩🧐😐🥳🧴👟🕊🤍🕊🐮\n",
      "🐑🦢🐑👟🐚🧴🤒🙄🤩🧐😣🤫😫😐🤤🤪😋😚😧🤧🤤😝😴🦦💩🦥🐗💼🦔🦥🦦💩💼🐗🦦👜😫🤒😹😲🤩😎🤗😓😴😳🥺😤🥱😛🥱😞😔😫😦🤭🤕😙😙😕🤤😥😙😬🦉🟫🐗🐗🦉🐻💼🟫🟤🐌👜👁💼😎😞😟😹😩😮😭😝😳🤠😔😟😗😑😩🥴😧🐑🐭🐮🦢🐚🐮\n",
      "🐑🕊🧴👟🐑😣😎😳😷😴😞😬🤩🤒🤧🤧😓🥴🤧🤔😩😫🦫🪵👜🦔🐌🦥🦫💩🦫🐻🐌🐗🦫😷🧐😬😜🙄🤥😝😔😒😟😥🤭😓😚😤😝😳😗😑😖🤨🤐😭😢🤒😜🤗🙄😝😕🧳🐌🟫🟫🟫🧳🦔🦫🦥💩🦦🦦🦦😫😯😑😋😩😯😣😲😭😲😣😏😪😸😕😳😴🐚🐑🧴👟👟\n",
      "🧂👟🐮🐮🐭🤕🧐😖😺😦😗😭😗🤪😯🤤🤗😟😩😹🟫🦔🦉💼🦥🟫👜🧳🐗💩🦦😭😐🥴😗😮😞🤕🤧😸🤭🤐🤑😴🤧😵🤧🤤🤤😹🙄😋😢😔😕🤭🤒😋😸😐🤓🤗😒🥴😭😷😸😟😞🟤🦫🦥🐗🤎🧳🤎🦔🦉🦦👁😢😭🤓😵🤭😔😛🤔😬🥱😎😧😦😬😖🦢🐑👟🧴🦢\n",
      "🐮🕊🐭👟🥺🤐🤓🤠🤨😜😫🥴🤒😩😛😞😧😲🙄👜🟤💩🟤🐗💼🟤👁👁🐌😐😮😓😞😗😢😮😛😒🤭😦🤒😳🤠😩😔🤩🥱🤤🧐😤🤭😐😯😐😦😧😕🥳😖😮😚🤓😓😴🤩😯🤑😒🤠🤥🤠👁👜🤎🦦🐗👁👜🐻👜🦥😋😭😥😓😪😷😭😸😫😋😫😥😙🥳😴🤍🦢🐮🐑\n",
      "🐭🦢🤍🔭😫😤😴😫😯😲🤐😺🙄😒😖🤥😩😜🟤🐻🦉🦫💼👁👁👜🐻😞😯😮😋😢🤒😤🤑😐🥱😕😏🤕😸😦😷🥱🤨😒😥🤨😸😑😯🤪🤑🥱😸🤠🤗😦😬😐😜🤩😯😎😭🥱😖🤑😢🤥😒😺😩🦫👁🟫💼👁🦉🐻🤎🟫🤐🤨😸😹😥😯😖🤭🥱😢😐🧐😔😴🐭🦢🦢🔭\n",
      "🧴🧂🐚🤫😜😭🥴🤔🙄😏😞🤫🥺😧🤤🙄🤗🦦👁👜👁🧳🐌💩🦦🥺😤🤐🤥🤗🤐😗🤤😢🤗🤭😣😳🥴😧😴😓🤔😦😴😸😧😝😷🤨😴🤐🤫😚😜🥱😙😥😗😐😗😕😪🤥🤩😖😒😕🤭😯🤫😚😒😴🟤🐌👜🐌🧳👁🦦🟤🦔🤒🤗😛😕😓😙😸😫😩😺😓😪😳🤒🐑🐑🧂\n",
      "🤍🦢🐑🤗🤒😖🧐😣😤😪🙄🤒🤨😞🙄😜🐻💩🪵🦫🦦🦔🦫🦉🤭😯🤕😋🤤😞😟😯😩🤓😦🤥🤪😞😔🤭🤤🥳🤐😣🤔😺🤤🤒😑😔😳🤠😐😮😝🤤🙄😞😦🧐😷🤕😒🤨🤥😞😔🧐😑🤓🤧😕🧐🙄😬🤧🐻🪵🦉🤎🐌🐻💼💼🥳😖😩😵😩😶🧐🧐😬😵😵😤🥱🐭🐚👟\n",
      "🔭🧂🕊🤭🤭😹😲😵😯🤨😙😝😦🙄🤐🐗🦫🪵🦔🦦🦫🐌🤎🤨😲🧐😥😝🥺😭😬😪😏🤭🤓🤒🥳😙😵😥😸😹🤫😴🤤😵😞😯😞😝🤔🧐🥺🤪🤨😪🤤😷😬😒😤🤨😝😝🤒😓😗😳😗😦😔😗🤪🤐🧐🤗😟🐗🦥💩🐌🐌💩🟤🐻🧐🤠😋🤕😕😔😝😺😞😛😦😟🐭🔭🦢\n",
      "🔭🐭🤠🤐🤧😷😮😗🥳😢😣🤐🧐🤭😛🦫🦥👁🪵🧳🐗🦉😏😤🤓😓🤨🤩😫😐😕😕😞🤒🥴🥱😢😔😣😤🥴😴🥴😮😦😩🤪😎😶😏😟🥺🧐😕😐🤑😮😗🤑🥳😶🥳🤐😏🤕🤩😲😴😸😦😐🤭😺😒😑🤤😎😋🟫👁🧳🦦🐗🪵🧳😟🧐🤑🤫🤒😫😤🤒😧😺🥴😣😬👟🐑\n",
      "🕊🐭😒😜😣🤫😪😵😢🤪😸😩😖🤐💼🧳🟫🦥💼💼🦉🤧🤐😥🥳😫😔😕😖🤠🤠😏🤗😚😐🤪😲😐😹😋😒😲😹🥱😚😣🤓😢😗😣😳🤑😹😕🥳🤗🙄😫😬😮😮😮🤓😶🤨🤑😑😸😢😮😜😤😯🤑😒🤠😙😵🤗🦉💼🧳💩🟤🧳👜🤐😮😳😜😝🤠😦😎🤠😝😛🤑🧴🤍\n",
      "🐚🔭😏😐😏😒😮😥😔😪😯😟🧐🐻👜🦫👜🦦👜🦥😖🥺😗🤪🥴😝🤫🤓😕😓😗😙🧐😬🙄🤔😭🤗🥺🤔😤😖😚🥴🧐😣🤫😞😥😎😭😷😔🙄🤨😐🥳😮🤧🙄😳😪😖😞🤥🙄🤩😧🤧😞😕😛🤧😹🤐🙄🤒😶🤫🧐🐗🦔🦉🪵🦥💩👜😫🥳🥳😚😚🧐🤐😹🥺🥺😫🦢🧴\n",
      "🔭🦢😞😜🤒🤧🤔🥴😗🧐😗🤒😲💼🤎🪵🦦🦦🟫😐😝😛😣😮😐😸😩😋😞😟🤭😚🤠😴🤠🙄😺😦😝😳😑😋😸😶😷😗🤭🥳🤕🙄🥴😧😬😧🥳🤕😹😤😭😎😯🤧😛😕😟😗😓😮🥴😔🤭😳😞😸🤪🥴🤧🤥🥱😞😣🧳🤎🦥🟫🪵🐻🧐😵😭😤🤨🧐😟😣😚🤫😎🐮🤍\n",
      "🕊😸😧🤭🧐🤥😖😲😏🧐😔😏🟫🐻🦔🦔🐻🟤💩😝😗😮🤔😩😮🥺😸😢🥱🤠🤤😬😳😦😬😎😐😺😎😛😮😓🤕😙😬😯😶😗😎🤫🤑🤥😥🙄😯😦😬🤓🥱😴🤔😓😭🤤🤫😒😔😐😥😩😲😬🥺😫😞😳😸🤫🤐😢🥱🟫🪵👜🐗🪵🧳🐌😬🤠😛🤪🥳😯😕😗😢😐😧🐑\n",
      "🔭🤥🤒🤭😸🤗🤠😯😞😑🤕😟👜🟤🤎🪵🧳💼😵🤒😔😎🤭😭😵🥴😏🥳🥱🤔🤔😫😖😲😚🤭🤧🤤🤒🤨😫🤪😎😑😲🥳😚😵😸😲😟🤥😥🤭😒🥳🤕😦🤩😏😔😔🤒🤭😭😵😞🤕🥺🤤😣🤒😧😒🤫😳😬🤓😙😜😭🤕🦦👜💼🟫🪵🐻😭😐😚🤫😎🤭😫😞😟🥴😙🕊\n",
      "🐮🤧😺🤤😓😚😒😶😝😶😐🟫💩👁🦔🧳🟤😎😪🤫😴😋😕🤓😪😗😪🧐😥🥺😐🦫💼🦫🟤🟫😤😐😖😥😥😜😢🤭😋😲😴😮🤨😕😭😩😺🙄🤤😒😮😭🤥😢😜🤧😎🤕🟫🐌🤎🦦🦦🥴😙😑😸😤😐😓🤥😴😷😛😋😛🤨💩🦫💼🦦🤎🤎😺😏😐😟😬😵😙🥺😕😴🦢\n",
      "🐑😟🤓🤒😵🤐😣🙄😕😳😵🦥🦫🦫🧳💩🦔😛😷😞🤓😤😸🤤😋😒🥴😫👁🐗💼🐗🐻👁🤎🐻🦉🦫😸😷🧐😓🤠😎😢😷🤑😙😤😜🤧😒😗🥱😛😬😤🤫😵😙😚🤓🦦🟤🦫🦥🦦🦦🦦🐌🟫💼🤔😕😺😒😫😓😗😚😎🤔😺👜🟫💩👁🦥🧳😜😙😔😗😺😑😜😮🤒😳🧴\n",
      "🐮😞🤩🥳🥱😬🤧🤭😋😚😢🧳🪵🐗🐻💩🐻😝😎😴😔😝🤤😧🧐🤭😵💩🦉🐻🟤🟫👁🦥🦦👜🟤🪵🦔🦥😚😕🤤😭😩😦😜🥺😝🥺😪🥴😷😥🥱🤥😞😤🤕🤒🐗🐗💼🦦💼🧳🦉🟫🧳🦥🟤💼🦔😜😎😵😦😥😥😟😔😜🥺🦥🐗🦥🦥🦫🦦🥴😭😤🧐😓🙄🤗😴🧐🥴🐮\n",
      "😤🤥🤕😴😳🤐😲🤓😚🤫😖🤔🟤🤎💩💩😮😴😵🤒🤧😥😦😲😓🐗💼🦉💼🐌🧳🪵🐌🟫🪵🐌🟤🦦🧳🐌🐌😺😹😗🤐😒🤑🤤😯😭😪😏😎🤒🥺🙄😖😳😦👁🦫🧳🦦🦉👜🧳🧳💼🪵🦦🪵🪵🟤👜🐗🤓🤫😑😑😺😥🥱😎😦🐌🐗🟫🦔😓😩😣🤪🤑😋🤧😖🤤🤐🤓😴\n",
      "🤕🤩😚😺🧐😺😵🤐🤩😴😜🤔🤭😫🤔🤐😢🤧😳🙄🤗🤩😯😢🦥💩🐻🟫🪵💩👁🐻💩🪵🐗🦦🟫🟤🦉🐻🤎🐻🥺🤕😪🥴😸🤔😒😋😕😕😟🥺😟😬🤕🤫🦔🧳💩👜🐻👜🟤🐗🐗🦦🦉🦉🟤👜🦫🟫🟤💩🤫🤥😮😖🤒🥴😥😔😣😔🤭😝😧😓😲😟😋🥳😺😐🤩😩😹🤔\n",
      "😖🙄😫🤩😹🥳😸😋😛🤥🤐😳😓😖🤫🤪😬🥳😟😓😏🤤😒🐌🧳🦉🦉👁👜🪵💩🦦🟤👁🦥🪵💼💩🤎🤎🦫🐗👜🥱😎😲😝🤓😺🤤😧😩😵😥🥺🤠🤔🦫🦔🧳🟫🐌🟫🦥💩🪵👜👁🦉🪵🐌🐻🪵🦉💩🦔🟫🤗🤗🤠😴😥😎🤫😲😞😋😙😦😒🤐😲🤐🤕😶😜🤧😝🤪😳\n",
      "😮🥺😐🤓😲🤩🤒🤐🤧🤤🧐😝🤩🤐😓😳😶😲😎😹😤🤥🥳💩🦔🦦💩👁🐗🧳💼🤎👜🦔🦥🧳👜👜💩🦦💩🐗🦫🤎😮🤤😸🤩🥱😥😛😣😛😞😐😭💼🦫🤎🟫🦫💼🦦🐌🐗🪵🐻🟫🪵💼👜💼🟫🦉🦦👜🦦😟😶🥴😤😫😢😞🥴😦😕😒😤🤐🤩🤪😜😓🥴😶😮😑🤐😔\n",
      "😸😝🥱🤧🤒😑😴🤫😩🧐😝😢😴🤕😴😐😥😐😣😶😒😪🦦🦉🐻💩🦉💩🟤🐻🐻💩👜💼🧳💩🦫🧳🦫🦫👁🪵🐗🦫🦦🤗😟🤫😟🤠😮🥴🤭😮😫🟤🦔🦥🐻💼🧳🐻🦔💩🦔🤎🐌🤎🧳🦔🤎🐻🪵🐗🤎💼🦉👜😞🥱🤩😣😩🥴🤤😑😤🤑😤😏😋🤪😮😦😗😮😟😑😣😪\n",
      "🤨🤩😮😟🤓😸😕🤠😐😯🤩😤😑🤧🤑😚😢😕🤑😚🤑🦉🧊🐟🐗👁🟫👜💼💩👁🦉🦉👁🦔🟫🦦🟫🦔🦫🦥🐌🦔🪵🦦😕😹🤩😞😭😮😙😪🧐😹🦉👜🐻🟫🦦🦥🐗🪵💩🦥🪵🦦🪵👁🤎💩🟤🦦🦥💼👁👖👤🦦😑🤤😺😹😫😤🤐🥳😬😯😪🤕🤑😢🤤😫😎😧😎😟😷\n",
      "🤗😮😶😢😚🧐😧😫😒🥳😙😤😐😢🤐😙🤧😢🧐😐🤒🌀🥶🌐🧊🟫🦉😪😵😦😋😞🤐😭😋😲🤭😫🤓🤒🟫🐻🦥🧳🪵🪵😗🤫😧😒🤒😫😧😶🪵🐻🪵👁👁👜😶😔🤩🤑😳🤫😙😩🤑😢🤗😛😐💼💼💦🌃🐬💧😕😏😙😋🤕😛🤪😓😛😖🤤😧😩😷😕😕😛🥴🤑😫🤥\n",
      "🤤🤓🤓😛🤤😒😕😺🤠🥺🙄😋😢😥😳🤐😩😪😲💦👤🐟🌃💎⛲😬🤓🤭😥😬😚🙄😢🤨😴😜🤔😭😟😣🤓😵😏🤎👁🧳🤠🤩😥😋😝😲🤔😧💼🟤🦦🤭😧🤠🤓😎😶🤒😎😶🤠😶😤🤓😸😵😛😷😩🐟🐋🐋🔷💎🔷🤓😪😋🥺🧐😹🤐🤭😝🤗😏😔🥱😖😙😮🤠😣😖\n",
      "😹🥺😑🤫🤭😷😵😫😳😧🙄😎😑😚🥺😲😋🤪💙🆒🆒👖🌊🧊👥💙🤫😙😭😸😒😵🤕😞😎😵😺😓😋🤫😣🤧😸😛🤩😙😯😋😜🤨🧐🤨🤔😩😐😯😵🤒😟🤭🤩😭🥳😯😋😕😙😋😣🤗😹🥱🧐😸🥶💦📘🐟👖🌠🌐🔵😤😦😚😟🥱😯🤥🙄😳😕😋🥱😷😑😛😴😝🤭\n",
      "🥱😫😝🥺🥺😛😵🤠😗🙄🤔😭😎😟🧐😏😐👥🧊🐳🥶🐬🔵💙🌃🧢😋🤫😮😢🤠😓🤭😺😏🤑😢😐😎😢🤐🤨🤤😗🙄😗🥴😺🥳🤒🤠😣😟🤫🤤😤😧🤗🤗🤓😕😎😮🤭😮😪🤠😙😶🤗🤑🤤😺😛🆒🥶👖🫐🫐🟦🔵🌀🌃🤩😕🥱😤😔🤓😳😋😏😴😵🤓😝🤪🥺🥱🥱\n",
      "🤨🤓😥😞😪😤😺🤒😩🤤🤠🥴🥱😋😺😪🌃🌊🧊🌌🐳💧🌐🐳🔹🔵🤓😪😵😶😛😩😗🥳🥺😫🥳🤠😚😩😫😏😎😫😝🤪🤑😕🤨😏😴😺😙😥😏😢😋😞🤠🤨🤧😤😶😯😪🤒😮😗😦😮🥳😴😹💧💦⛲💧🌀💧🧢🐳🐋🔹🌠😞🤧🤓😒😗😺😞😹😕😲😟😒😶🤨😛😑\n",
      "😐😛🥺🥺😕😟😪🤠😴😋😢😪😙🤥😏👥💙🐳🐟🧢🧿🧿🥶🌐📘👥📘🤐🤠😮🤫😋🤓🤤😏😎😭🥴🥱😳😶😢🤭🤩😏😦🥴😪😳😜😮🤑😧🤨😕😔😴🤒😹😛🤫🤗😜😋😗😗😯🤑😒😔🤭🤩🤪👥📘🌀🧊🌐🆒🐟🔵👤👤🥶🆓😛🤑😓🤭😑😖🥺😮🤭😶🤑😚😺🥱😮\n",
      "😧🥺😒😚🧐😧😦😬🤨🥳😣🥳🤔🧐🔵🐟🌃🧊📘🥶🆒💙🟦🐋🔷🧿💧🤫😔🥺🤥🤒😩😭😕🤑😦🥳🧐🤗😮🥺😴😎😝🥴😝🤫🤩😖🤭🤓😞😩😬😞😳😷😶😋😞😜🤠😶🤭😴😛🥴😫🧐😹😶🤫🧊🌀👖🌀🌌🐬🌃🟦💧🔷🌌🐬🫐😙🤥😭🤭🥱😣🤨😮😝😸😫😴😺🤔\n",
      "😪🤩😪😖😭🤤😵😟😷😕😋😝🤥🟦⛲🫐🐋🌀🟦🌃🐳🐋👖🐟🔵💙🧊😶😶😸😕😛😹😗😷😬😫😸😖😗😫😬😯🤑😩😸🥱🤤😞😤😫😸😚😕😥😸🤐😩🥱🥺🥱😓🤩😩😴😷🤩😳🤗😭🤭🥳😭💙🔷🐟🫐📘🌃🧊🔷🧿🧢🌌🟦🌊💎🥺🤐😲😟😷😗😥🧐😢😔🤭😏😯\n",
      "👟🤒😗🤐😗🤔😓😭😦🧐😞🤐👥🧢🟦📘🆒🌊👖🔷👖🆒🆒⛲🌠🟦🧿🌀😦🤗🤒😞🤧😐😹🥳😭😵😴🤓😔😶😗😭😯🤠🤥😝😓🤠🤤🤥😷🤔😵😞🙄😭😹😹😒😦😦😐😭😹😓😏😒😲😔😭🔹💦🔹💧🌀🧿🫐🧿🐳🐳🌊💎🧿🐬🐬🌐😤🧐😪😳😩😑😬🥺🥴😋😩🤍\n",
      "🤍🤠😒😴😲😖😩🤥😮🤥🤒🤕👥🥶🐬🌠🔵👥🧢🐋🐟🐋🧢🌌💎🧢🆓🐳🥳🤗😴🙄😣😢😬😺😦🤒😪😫😟🤪😤🤑😚🤠😟😬😗😜🤩😓🥱😓🤫😹🤑🤤🧐🤑😮😵😝😜😙🥴🤤😤😜😟😜🤨👥🌃🔹💎💧📘👥👤⛲🐳🔹🧊🧢⛲🔷🌀😯🤩🤫😝😗😎😢😴🤗😑🤤🐭\n",
      "🐮🤒😩😒😤🤓😒😒🙄😢😖💎👤🆓🐟🧊👖💎👤🟦🥶🐟🧢🫐🌀👤🌠🌠🐻🟫👜😴🤧😗😗😞🥺😭🥴😥🤤😙🤭🤔😺😋😚🤔😥😝🤠😷🤔🤑😪😮😭😸😑🤪😕😵🤥😒😑😦🤓😕😹💼🐗🪵💎🔷🌠🆓🔵💙🌌🆓💦🌊👤🆒🌀🆓👖🧊🧢🤥🙄😵😟🤐😳🥺🤓😮🤐👟\n",
      "🧴😴😏🤓😗😥😗🤓😯🤧🔹💧💧💦⛲💧🌌🌀🌠👥🫐⛲🧢🐳🧢💧🌀🧿🐗💩🦔🦉💩💼🦦🧳🟤🦥😦😦🤪😝🧐😵😥🤒😚😒😗😒😪🙄😝😺🧐🧐😞😮🙄😧🤐🤐🤎🟤🐗👜👜🐌🦫🦦🤎🌃🆒👖🌀🫐👖🆓🐟🆓🐳🐟🌊🌊📘🐬💙👤🫐🔹😛🤐🤕😵😛😤🥱😷🤐🐑\n",
      "🕊🤨🤥😤😬🤗🤩🤔😫🌐🥶💎👖🆓🐟🧿🐬🌃🔵💧🧊🆒🌀🌌💙🥶🆓🔵🔹💩👜🦫🐌🦔🦥🐻🦦🐻🤎👁🦥🦦🤎🦥🧳🦉🦉🦫🐌🦫🪵🟫🧳🟫🐌🦥🐗💩🦦👁🟤👁🦔🐻🪵🧳🐌👁🟫🦥💼🐬💎💙🧿🌃🥶🌊💦🧢🔹👤🌀🆒🫐🧊💎👥🟦👖💙🤐😑😥🤧🥺🧐🤒🤨👟\n",
      "🔭🐮😵😩🤗😟😕😞🐬💎🐳🌌🌠👤📘🧢🆓👖👖🐳👖👖💧🆓💦💙🌐🧿🐟🦉🧳🦫👁🦔👁👜🧳🦔💼🦦💩🟤💼🧳🤎💼👜🦫🦦👁💩🦦🦉🤎🦉🦦🟤🐗🟤🧳🟤👜🪵🟤🪵🤎🐗💼🐻🦫🟤💙🥶🐳💎🔷🔹🔷📘🌐🔵🌠👥👥🐬🌠🌊👤📘💧💎🧿😲😥🤨😷😬😲🤍🐮\n",
      "🤍🐚😹🧐😭😖🧐🤩🆓🥶🔷💦🌐🌃🌀💎⛲🐬💙🥶🫐🐳🌠💎🧿🔵🟦🌠👤🐌👜🐗🦦🐌🐗🟤🦦🦦🟤🧳🤎🟤👜👁🦥🤎🦫💼🦔🧳🐌🪵🦦💩💼🐗👜🦔🦔🤎💩🪵🐗🦔🤎🧳🐗🦫🧳🐻🐻⛲🐋🐳🔹💦👥🌌💦💧🟦💙🌠🆒🔹🐋💦📘🐳🐟🔹👥🤫😬🥱😖😙😐🔭🧴\n",
      "🕊🔭😬😣😬😙😪🥶⛲🐳🫐🐋🫐🫐🌃🔵🐳🌐💧🌃🔹🆓🥶🧢🐟🧊🆓👥🌐👁🐻👁🦦🦉🐗🦫🐻👜🟤🪵🟤🪵👜🤎🦉🪵🦥👜🪵👜🐗👁🤎🪵🦦🦫💩🦫🐗🟫🟫🟫🧳💩🦦🟫🦥👜🤎🦫🦔🌊👤👖🐟💦🐋🔹🥶🌊🌃👥🆓🔵👖🌌🔹🐋🌌🥶🥶🌐🌌😵🤤🙄🤑😓🦢🤍\n",
      "🤍🔭😥🤭🤓🥴⛲🌐🆒🆒🌐🐳🌐💎🐟🐋🌀👤👤🌠👖🥶🐋🌀🌃🌐🐬🧊🧿🔹🧴🐑🧂🐗🐻💩🪵💩🤎🐗🦥🦫👁🟫🐻🟫🦉🦉🦥🦦🧳👜🦔🐌🦦💩🟤🐻🟫🐗🟤🐻🪵🐻🦥🦫🟤🤍🐭🐮🌊⛲🌌💎🌠🌐🔵🧢🫐💎🔷💦🌌⛲👖👥👖🟦🔷🐳💦🌐🆒🌐🤭😦😩😖🧴🔭\n",
      "👟🔭🧴😜😴😹🐟🐟🌐🐟🧿👥🧢💦🆓🔵🌐🆒🌌🐬🐳🧢🔹🌀🌌🧿🔷👥👥🟦🐮🦢🐚🧂🔭🤍🐚🐑🐚🤍🐚🕊🐭😙🦦🪵🦦💩🐌🪵💼🦫🤎🦔🤎🟫😹🐑🤍🐚🐭🔭🐑🐚🐑🐭👟🧴🕊🐮🧿🐬🔵🌀🫐💎💙🔵🐳💧💧🐬🧢🐳⛲💧💦👥💧👤💙📘🧢🐟🤕😣🤓🐮🧂🕊\n",
      "🤍🧴🧂😝😤👥🫐🌃🌐🐬🔷⛲🔷⛲🔵🧊📘🐳🐬👖🌃🔹💙💙🔷💙📘👤🌐💙🐑🐑🐮🐚🤍🕊🐑🧂🦢🕊🤍🔭👟🐚🐭🕊🐚🐮🐚👟🤍🐑🧴🤍🐑👟🦢🤍🧴🐭🦢🐑🕊👟🕊🧴🦢🕊🧴🤍🌊💙👤🌌🔷🫐👤🧿👖🆒👥👥🥶🌊🌊💧🫐🆓🌀🥶🫐🔹🔹👖🔹😙🤔🐮🧂🦢\n"
     ]
    },
    {
     "name": "stdout",
     "output_type": "stream",
     "text": [
      "🔭🔭🐑😣🫐🌊🐬⛲🧿👥👥👤👥🐳🫐🧊👤🌐💦💙👤🌃🐋👤🐳🐳👤💙🫐🧢🧂🤍🦢👟🔭🕊🧴🦢🔭🦢🦢🤍🤍🤍🐮🐭🔭🧂🐭🐑👟👟🦢🔭🧴🕊🔭🐮🦢🐮🐮🐑🕊🧴🐭🧂🧴🧂🐭🔭🥶💧🔹⛲🧢🧢👖🐳👖🐟⛲🐋💦🧊💎🌠🌊🔹🔹🆒🧊🌐👤👤🔷😛😴🔭🐚🐚\n",
      "🔭👟🐚🐚📘🔷🔵👖🌠💎🐳🐬🔹🟦🌠🌃🌊🌃⛲🫐🌐📘🔹💎💎🧢📘💎🐳💦🧂👟🐮🧂🕊🐭🧂🕊🐚🔭🦢🕊🐚🧴🔭🔭🧂🐚🕊👟🐭🐮🧂🧂🐚🐮🐚🕊🔭🐑🐭🐚🦢🕊🤍🐑🔭🕊🦢🦢🟦📘🔵🐟🌀🟦🧿💦🟦💧🔵🌠🌀💎🆓👥🐳💧🧢🐋🔹🌐🧊🥶🌐🆓🐚👟🧂🐮\n",
      "🧴🐚👟🤍🐋🧢👤👥🧊🌌💙⛲💦👖👖🆓🐋💎📘🧿💙💦🥶🐳🔷🧢🌊🧢👤🐬🤎🐻🕊🔭🦢🧴🔭🧂🦢🐮🤍🐚🦢🐮🐚🐭🔭🦢🐭🧂🐮👟🐚🤍🐭🧂🕊🧴🧂🤍🔭🐭🤍🐮🧂🕊🕊🦢💩🧳👤🐟🌠🌌🔹🐬💦🐟🔷🐬🆓👤⛲🧊🆒📘📘🌊💎👖📘💙💙👖🔷🫐🧂🔭🤍🕊\n",
      "🧂🧂🐮💧🌐🟦🟦🌌🐬💙🧿🌐💦🌌🌐💙🆒🌀⛲👤🌊🌌🔹🟦🔵📘🐟👤💙📘👜👜🦥🐻👟🔭🕊🐑👟🤍🐑🦢🐭🧂🔭🔭🔭🐚🐚👟👟🧴🔭🕊🐚🤍🧂🔭🤍🦢👟🕊🐭🐑🕊🐮🟤🦉🦔🐻🆓🫐🟦🥶🌐🔵🌃💎🌊🥶💧🌀🌊🔹🌊🐬🥶🌀🌠📘🫐👥🧢🫐👥🆒👥🐮🐮🐚\n",
      "🐭🐑🧴💦🐋🌠🫐🔹🐬👥🌃⛲📘🧿🆒🌌🌐💎🆒👤🧿🌌🆓🐋📘🔷👤🆒🐋🐋🦉🤎🦥👜🟫🟤🦢🐑🐚👟👟🐑🐮🧴🐮🐚🐭🦢🐭🦢🐑🧂👟👟🐑🤍🕊🐮🐮👟🐑🐚🐮🧴🧳🐻🦉🦉👜🤎🌊🥶🆒⛲🔷👥⛲🧊👥🔷💧👤🧊💦🔷👤🆒🌌🐟🌀🐟💧🥶💎🔹💙🧊👟🤍🤍\n",
      "👟🕊👟🌀🔵🐳👤🥶🥶🌃💎🧊🔵🔵🟦🧢🔹🥶🌀🌀🌃🌊👥👖🟦🫐💎🌐🔵💎🐻🟫🪵🧳💼🤎🤎💩👁🐑👟🤍🧂🐭🐭🕊🧴🔭🐭👟🐚🕊🐚🐚🐚🐑🦢🐭🤍🦢🦢💩🐗🧳🟫🤎🦥🦫👁🌠🫐👤💦🐬👤🐋🌐🧿🔹💎🔵🔹🐬🧊🐋🧊💧🐋💙👤🧊🫐🫐🧢🥶🫐🐋🕊👟🧂\n",
      "🔭🧂🧴🔹💧🌠👥💦🥶🫐💧🟦🌃🌀🌃👤👤🌃🌐🌐🧿🌌🔷🐳🧿🌠🌊🆒👤👤🦔🦥💼💩🪵🟫🟤🦔🟤🦥🦥🪵🤎🧂🦢🐚👟🧂🐚🐮🧂🐑🐚👟🧴🦢🐑🟤🟤🦉🦔🦉🐌🦔👁🧳🦔🪵🐌🐬👤👤💙🔵🌀🐋💎👖💎🌃🌊⛲🌀👤🌊🆓💧🌐🧢🫐🆒💦🌠👤🔹🥶🐬🧴🔭🧴\n",
      "🕊🐑🦢⛲🐬👖🧊💦🌊🌠💧💦🔷🆒💦🆒🫐🌃🔵💧🌠🔹👤🐟🫐🔹👤🌌🐋🧢🤎🐗🟫🐗🦔🐗🟫🦔🐌💩🟤🐗🦉👜🤎👜🪵🟫💩🟤🐻🧳💼🦉🤎👜🦥🤎🟤🦥🟤🧳🟫🦦🟫🦫🐗🪵💼🆒🧿🌌🆓🔷🌐🔷🔹🧢👤🌀👥👤🐳🌀🌌🌠📘🔷📘🐬💎🔹🔵🧊🧢🆓🐟🐚🕊🐭\n",
      "🔭🐭🕊💧🟦🐋🌀🐟🌃🌌🌊👖🫐🐋🆒🌌🥶📘💙🐬🌌🌀💙💧🌀🌃📘👖👥👖🐻🪵🟤🟫🦫🦦🐻💩💼👜🪵🤎🦦🪵🐗💩💼🟫🦔🦫🟫🟤🐌👜🐻👁🦦🦔🐗🦔🐌🐗🦉🪵🦔🦉🧳🦔🐻💼🔷🆓🧊🌀🌌⛲💧📘🌀🔹🐳🆓🌠👖💦🧢💙🔹🔵⛲🌌📘🌐🟦💦🐋🐳🧂🤍🦢\n",
      "🐚🧂🐮🌠🧢🌀🆓🐋🆒💦🆓📘🐟⛲💙📘🌀🐋👖🫐🆓🧢📘💦🌐🟦🐟💦🧿📘🦥🦫💩🦉🟤🪵🦔🦦🟫🤎👁🤎🦔🧳🦦🤎🟫👁👜🦫🦥👁🦫🪵🦔🧳🦫🟤💼👜🪵💼🤎👜💩🐻💼🟫👜👜🔷🧿👤🧿🌊🫐🐳🌊🌠🐋🧿🧊🌃🔹🐋🥶👖🧊🧊👥🧿🧿💧🧊🥶💧🌌🔭👟🦢\n",
      "🧂👟🧂🌃🧊🌃🌌🧊🆓💎🆒🥶💧💎🔷🔹🧊🔵💙🔹🆒🔹🧢👖💙🟦💎🌃🌀🧢🐻🤎🐻🐌💼🦫🧳🦦🤎🤎💼🦫🪵🐌🦥🐌🧳🐗🧳🦔🟫👜👁🦉💼🐌🦫👜🐗💩🤎🐗🐗💩🦫🐻🟫💩👁🦦💎🌠🆓🆓🐋🌀💧🔷💙🫐🐟🌠💧💧💎🌌👥📘🌐🧊⛲🌐🐋⛲🌃🌌🌐🕊🐑🐑\n",
      "🔭👟👟🐮🐬🌠🟦🌀🧊🐟⛲🧊⛲👤🌐🌃💙👥🥶💦🥶🫐🫐🐋🌐🟦👤🐟🧢🔹🪵🦉💩🦉🐌🧳👜🟤👁🟫🟤🦥💼💼🧳👜🦥🟤💼🧳🐗💩🪵👁🧳🧳🦥💼🐗🟫🦔🦔🧳🦉🧳🤎🦫👁🦥🐌⛲🔹🌃🆒🐳💦🌊🐋💧🐋💎🟦🌃👤🥶🧿🐳🌐💎📘⛲💎👤🌀💙🔵🕊🐭🤍🐑\n",
      "🧂🤍🔭👟🌀🔷🧿🟦🧢🌌💙🧊🐟🟦🐟🐬💧🌃🔷💙💦🧿🐟🆓💦🫐🔷🔹🌐💼🟤💩🪵🧳🐗🦔👜💼👁🪵👜🟫👁🧳🦫🦦👁🦉🐗🟫🐻🦥🦔🪵🦥👜🧳👜🦫🟤🦔🤎🦔🪵🐻🟤🦔🦥🦦🐌💼🌃💦💦🥶🐬🧿💙🐳🐬🌃🌠💧🆓🌀📘🌐🆓🆒👥🆒⛲🆓🧿🐳🌃🐑🐭🐭🐚\n",
      "🕊🦢🦢🧴🔷📘🫐💧🌌🟦🐬🟦🐟👖🌃🆒📘🌃🔹🫐🌐🌊🧿🐳🆒💎🐋📘👥🧳🦔🤎💩🐌🐗🦫🧳🐌🦉🦫🦥💼💼🤎🦉👁🦔🦥👜💩👜🟫🐌🦦🟤🦦💩🦦🐻🐗💼💩🦉👜🤎🟫🐻🟫🦔🐻🐌🧊🔹👥🧿⛲🆓🫐🐳⛲🆒👖👤🌃🆓🔷💧🌊🐬📘🥶🌀🆓👖👥💎🕊🐑🐚🔭\n",
      "🕊🕊🤍🧂🕊🥶🐋👤🧊💦🧢🌠🌀🐬🔹📘👥📘🐳🌃🟦🌠🌐👥🆒👤💎🌊😬😪🪵🐗🐌🟫🦦🐻🦦🪵🦉🐗🦔👜🤎🟫💼🦫🪵🟤👜🦉🦔🪵🐗🦦💼🟫🐻🐌👁🧳🦉🐻🪵💼👁🪵🦫🐗🧳🪵😤😛🔹👤🔹👖🌌🔹💙👥🟦🌀🥶🌀🆒🆒🧿💙🔹👖🌐🥶🐬👤💙🐮🐑🐚🐮🦢\n",
      "🧂🤍🐚🐚👟🐭🌀⛲💎🔹🔷📘💦💦🥶👖🟦🐬🔵👖🌊🟦🟦🫐🌠🧢🔵🌀🧐😐🤔🤤🐌🟫🧳🟫💼🦫💩🐻🧳🤎🐌🐌🐌🦦🦦💩🧳🐻🐗🤎🦔🪵🦔🤎💼🦦👜👁💼💩🦔🟤🤎🐗🧳🦉🤐😯😦😩🆒🧊🌃💦🟦💦🥶🌊🌃🐟🔷🧊👤🆓🌠🧿👖🌃📘🧿🔹🌌🕊🤍🐮🐭🐭🤍\n",
      "🐚🐚🦢🕊🧴🧴🌃🌠🔵💧🧊🐬🔷🆓🆒💧🧢🔹👥🌠👖🌃🔹🧢🌀📘🔹🤔🤕😲🙄😙😣😤💼👁🧳💩🐗🐻🟤🟫🟤🐌👁💼💩💩💼🦔🦦🤎🟫👜🟤💼💩🦦🐗🐌🐌💼💩👁🦫🐗😞😥😳😥😋🙄😚💎🐋🔹🐟🧢🌊📘🫐🌀🧿🌠🐬👥🔵🆒💎🐬🆒💎🌌💙🧂🧴🤍🧂🤍🔭\n",
      "🐮🐚👟🤍🧂🐚🧴🔵🌐💙💙🔷👖🌀🌌👖💦👥🧿🐬💙💦🐟🌠🫐🥶😸😷😳😙🤭😝😑😟🤧🐻🐗🪵🟤🤎🦦🟤🤎🟤🐻🦥🦔🐗👜🟤🐻👁🐌🐌🦔🪵🦥🐻🧳🟤🦦🐌🦉💼🟤🤥🧐🤕🤔😺😪🤒😦🤒🔵🌐🧿🐬🆓👤📘💦🆓👥💧🐟🟦🥶⛲🟦🌐🐋🕊🐮🕊🐭🔭🦢🐚🐭\n",
      "🐑🕊🕊🤍🕊🔭🔭🔭🐑💎💧🆒🌌💙🌊🔷🔹👖🌊🌃🧢🐟🐬📘😵😫😫😓😶😶😩😛🤑😳😚😒😤🤑🦔🦥👁🟫🦥🦉🧳🦉💩💩🦔🐌💼💼🐗🦥🐗🦉💼🐌🦦🤎💩🦦😒🤥🥴🤔🤨🥳🥴🤓🥱😐🤕🤪😴😬👥🧿👤🌠🌠🌀🐬🔹🌌🥶👥🟦📘🐬💦🧂🧂🧴🦢🐮🐑🐑🐭🧂\n",
      "🤍🐭🧂🧂🦢🤍🐑🧴🧴👟🐮🐳🐬🆓🌀🐬💙🔹🔹🫐🌐🔷🟦😲😢🤒😔🤔🥱😔😒😮😚🤫😬🤗😦😙😭😯💼🐌💼🧳👜🐗🤎👁💩🐻👁🤎🐻🤎🐗🟫🐗🪵🦦🟫😯😒😸🤫😢😤😒😵😞🤫😫😐🤫😥😯🥱😓🧊🧢💧💎📘📘👖⛲🌊🫐🐋🟦🐑🐑🐚🐚🐮🕊🔭🐚🧂🤍🦢\n",
      "🧂🧂🦢👟👟🐑🐑👟🐭🕊🧴🐭🐚🔷🧊💙🔷💦🧊🔵😷😴🥱😎😧🤤🤥😞🤒😝😞😒😙🤫😺🤐😏🤓😭😑😢😗😬😐😚🦉💼🦦🟤🦉🟫🐌👜👁🦥😩😷😔😜😗😜😷😞😢😛🤒🤩😺🥱🤗😙🤒😏😧🤒😺🤧😲😥😤👖⛲🆒🐬💙🧊🧿🧂👟👟🧴👟🔭🐮🐭🐭🤍🐑👟🧂\n",
      "🕊🧂👟🤍🤍🔭🦢🧴🧂🤍🦢🐮🐑🧴🦢🐑🤍🦢🐮🤫😫😑😫😩🤤🤠😷😞🤨😢🤭😝😪😑😟🤓😚😞🤪🤗😮🤩😖😸😵😴😴😮😥😪🤕😣😗🥳🤓😏😺😩😎😭😙😫😕😑😖🤗😭😝😝😵🤑😭😺🥴😎😲🤒😝😝🤒🤑👟🐑🐑👟🤍🐭🐚🦢🧴🦢🐚🧂🧴🐑🤍🐭🕊🤍👟\n",
      "🧴👟🔭👟🕊🐑🤍🧴🕊🤍🐚🐮🐭👟🦢🔭👟🐭🧂🐮🔭😪😴🥴😧😟😓🤭🤤🤥😸😏😯😣😫😚🤭🤔🤤😐🤠😧🤨🤧😜😕😜😹😬🥴😷😸😵🤭🙄🤒🤒😧😏🤥🤥😜😭🤓🤒🙄😟😫😏😹😙😵😳😧🤨🤓😯😲😩🧂🤍🐮👟🧴👟🧂🐚🕊🐚🐑🐑🐑🧴🕊🐮🕊🐭🐑🧂🦢\n",
      "🐭🦢🐮🔭👟🤍🧂🐭🧂🐮🤍🐚🤍🐭🧂🕊🔭🐚🔭🐮🕊🐚😜😭😏😋😶😕🙄😮🤨🤨😜🤫😵🤓😹🤐😢🥴😬😣😟😲😐🤑😚😓😦😚😧😳🤔🙄😧😥😪😬🤔🤥😑😸😳🤐🤭😸😣😢🤔😧😋😶😦😮😺🧐🤑😥👟🐑🐭🐑🐮🤍🔭🧂👟🐭🤍🦢🐚🧂🐮🐚🐚👟🦢🐮🧂🤍\n",
      "🐮🧂🐑🧂🧂🦢🐮🐑🔭🕊👟🐭🐑🧂🔭🐑🐑🐚🧂🧂🐮🧴🐮🦢🥴😥😴😐😋🤥🤤🤕😔🥱😵😷🤒😋😙🤨😙🤕🤤🤪😗🤓🤫😤🤠🤭🤨🤨😦😵😳🤥😩😓😦🤐🥴🥳😧😳🤪😧😦😟🥱🤧😧🙄🤕😢😔😵🤍🐭👟🐑🔭🐚🐮🐚🤍🕊🧴🐭🐮🧴🦢🐑🔭🐮🧂🧴🤍👟🧂🧂\n",
      "🦢🧴🧂🐮🐚🔭👟🐭👟🐚🐮🐮🦢🧴🐮🧂🐮🐚🔭🔭🐚🧴🔭🕊🐚😏😖😝😙😛🤩🤓🤠🤠🤧🙄😝😏😟😢😗😬😣😵😵😛😙😙😤🙄🥱😖😛😹🥱😹😯🤠🤪😏🤐🤠😷😵😵😟🥴🤩😗🤒😭😲🤧😯🥳🔭🤍🤍👟🦢🔭🤍🐭🔭🐑🐮🐮🐚🧂🐑🧴🕊🐮🧂🧂👟🔭🐮🐚🧴\n",
      "🐚🐮🧴🤍🐚🐚🧴🐮🧂🔭🤍👟🧴🕊🐮🦢🕊🐭👟🕊👟🐚🧂🧂🐚🐮🕊🤨😖🤒😞😐😚🤑🤓😔😒🤧😒😩😶🤔😪😴😩🤑😟🤕😜😯😕😳😭😒🤕🥳🥴🤪🤓😫😵😕😧😣🙄🤫😭😙🤕🤔😮🤥😓🔭🦢🤍🤍🤍🦢👟🐭🧴👟🧂🔭🔭🤍👟🧂🦢👟🔭🐮🧴🐮🐭🐭🐭👟🔭\n",
      "🧴👟🐮🐚🦢🦢🐭🐚🕊🕊🦢🐮🕊🐚🐑🦢🕊🕊👟🐑🐑🐭🕊🤍🐚🐚👟🔭🤍😙🤩🤥😫🤕🥳🤔🤤😜😲🤩🙄😷😜🤨🤤😛🤒🤪🤧🤭😪🤪😐🤨😑🤑😖😓🥳😳😴😸😝😢🤥🤤😑😪🤠😩😎🦢🐚🐮🐚🐭🕊🐮🔭🤍🐮🐑🐮🧴🐮👟🧴🤍🧴🤍🐮🤍🐮🐮🤍👟🐚🕊🐮🕊\n",
      "🧂🤍🤍🔭🤍🐑🐮🧂🔭🕊👟🤍🧂🐚🐚🧴👟🐑🤍🐭🐑🤍🧴🐑🤍🧴🧂🐮🐚🐭🐚😺🙄🤭😫😬😴😷😵🤗🥱😴🤫🤫😪😞🤫🤩🤪😶😓🤕😖🙄😒🧐😯😟😚😸😷🤪😣😭😐😮😲😖😎🦢🔭🐑🐭🧴🕊🦢👟👟👟🔭👟🕊🤍🐮🧴🔭🧴🐑🤍🐮🔭🦢🐚🐭🧴🐑🐚🐑🕊🧴\n",
      "🤍🧴🐚🤍👟🐚🐑🧂🐑🕊👟🔭🐮🦢🔭👟🧴👟🧂🤍👟🤍🐮🦢👟🕊🧂🐮🧴🧴🐚🐑👟👟😬😷😓😥😷😵🥱😣🤗😲🤤😤🥱🥱😬🤩😓😢😵🤪😸🤓😹😴😸😣😲😎😣😎😜😗🔭🐑🔭🤍🔭🐭🔭🕊🐑🦢👟🐭👟🐭👟🐚🐭👟🐑👟🐑🕊🐑🧴🦢🦢🐭🤍🔭🐚🧴🐑🐚🐑\n",
      "🕊🧂🕊🐭🐑👟🐚🐮🐑🐭🔭🐭🧴🧂🐭👟🤍🔭🐚🔭🤍🐑👟👟🐚🔭🐮🐮🔭👟🐮🐭🦢🐑🧴👟🐚🕊🤗😮😚😦😏🤧😕😬😳🤩😓😗😹🤧😝😝😢😗😵😟😕😢🥱😝🧴🤍🕊🐮🤍🐚🧴🐚🔭🐑🔭🐮🐑🦢👟🤍🐮👟🕊🧴🦢🤍🐮🔭🕊🦢🦢👟🐭🕊🤍👟🐭🧴🤍🤍👟🤍\n",
      "🐚🕊🦢🐑🐭🧂🤍🐭🤍🧴🔭🦢🤍🐑🐮👟🐚🤍👟🤍🐭🤍🤍🕊🦢🐚🦢🐭🦢🐚🧴👟🦢🐭🤍🐚🕊🦢🐑🐑👟🔭🕊😥😖😭😭😵😸😲🥳😛😚😜😳🧐🤤🐚🤍🔭🤍🦢🧂🧂🐑🧴🤍🐭🧂🐚🕊🤍🐑🐑🧂👟🔭🤍🧴🧂🤍👟🐭🧂🐑🐮🧴🕊🦢🧴🐚🧴🤍🐚🧴🧴🐮🧴🧴🐮\n"
     ]
    }
   ],
   "source": [
    "for y, row in enumerate(img):\n",
    "    line = ''\n",
    "    for x, pixel in enumerate(row):\n",
    "        closest = get_closest_color(img[y][x])\n",
    "        line = line + random.choice(COLOR_EMOJIS[closest])\n",
    "    print(line)"
   ]
  },
  {
   "cell_type": "code",
   "execution_count": 295,
   "id": "a0a13473",
   "metadata": {},
   "outputs": [
    {
     "data": {
      "text/plain": [
       "<matplotlib.image.AxesImage at 0x13cccd0d0>"
      ]
     },
     "execution_count": 295,
     "metadata": {},
     "output_type": "execute_result"
    },
    {
     "data": {
      "image/png": "[encoded data removed]",
      "text/plain": [
       "<Figure size 432x288 with 1 Axes>"
      ]
     },
     "metadata": {
      "needs_background": "light"
     },
     "output_type": "display_data"
    }
   ],
   "source": [
    "plt.imshow(cv2.cvtColor(img, cv2.COLOR_BGR2RGB))"
   ]
  }
 ],
 "metadata": {
  "kernelspec": {
   "display_name": "Python 3 (ipykernel)",
   "language": "python",
   "name": "python3"
  },
  "language_info": {
   "codemirror_mode": {
    "name": "ipython",
    "version": 3
   },
   "file_extension": ".py",
   "mimetype": "text/x-python",
   "name": "python",
   "nbconvert_exporter": "python",
   "pygments_lexer": "ipython3",
   "version": "3.9.2"
  }
 },
 "nbformat": 4,
 "nbformat_minor": 5
}
